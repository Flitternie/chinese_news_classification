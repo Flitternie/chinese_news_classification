{
 "cells": [
  {
   "cell_type": "code",
   "execution_count": 2,
   "metadata": {},
   "outputs": [
    {
     "name": "stderr",
     "output_type": "stream",
     "text": [
      "2022-08-28 14:37:59.758902: I tensorflow/stream_executor/platform/default/dso_loader.cc:49] Successfully opened dynamic library libcudart.so.11.0\n"
     ]
    },
    {
     "name": "stdout",
     "output_type": "stream",
     "text": [
      "2022-08-28 14:38:03,576 INFO     Create model.........\n",
      "2022-08-28 14:38:06,111 INFO     Create model.........\n"
     ]
    }
   ],
   "source": [
    "# 加载模型\n",
    "import inference\n",
    "from utils import doc_topics, paragraph_topics\n",
    "\n",
    "# 输入文档主题分类模型所在路径\n",
    "doc_classifier = inference.NewsClassifierForDoc(\"./output/doc_all/checkpoint-best/\")\n",
    "# 输入段落主题分类模型所在路径\n",
    "para_classifier = inference.NewsClassifierForPara(\"./output/para_all/checkpoint-best/\")"
   ]
  },
  {
   "cell_type": "code",
   "execution_count": 3,
   "metadata": {},
   "outputs": [],
   "source": [
    "from tqdm import tqdm\n",
    "import warnings\n",
    "from utils import preprocess_pdf\n",
    "\n",
    "# 分类严格程度，建议在 0.5-0.9 之间，数字越大代表分类越严格\n",
    "threshold = 0.7\n",
    "# 跳过长度过短的段落\n",
    "min_paragraph_length = 20\n",
    "\n",
    "# 对单一pdf文件预测主题\n",
    "def predict(pdf_path):\n",
    "    print(pdf_path)\n",
    "    preprocessed_text = preprocess_pdf(pdf_path)\n",
    "    doc_topic, doc_score = doc_classifier.classify(\" \".join(preprocessed_text[:3]))\n",
    "    if doc_score < threshold:\n",
    "        warnings.warn(\"活动类型不明确: {}\".format(pdf_path))\n",
    "    print(\"活动类型为：\" + doc_topic)\n",
    "\n",
    "    para_topics = []\n",
    "    for para in preprocessed_text[2:]:\n",
    "        topic, score = para_classifier.classify(para)\n",
    "        if score > threshold and len(para) > min_paragraph_length:\n",
    "            para_topics.append(topic)\n",
    "    para_topics = set(para_topics)\n",
    "    print(\"活动主题为：\"+ \" \".join(para_topics))\n",
    "\n",
    "\n",
    "# 对所有pdf文件预测主题\n",
    "def predict_all(pdf_paths):\n",
    "    # 初始化统计结果\n",
    "    stats = dict()\n",
    "    for doc_topic in doc_topics:\n",
    "        stats[doc_topic] = dict()\n",
    "        for para_topic in paragraph_topics:\n",
    "            stats[doc_topic][para_topic] = 0\n",
    "\n",
    "    # 遍历pdf文件进行预测\n",
    "    for pdf_path in tqdm(pdf_paths):\n",
    "        preprocessed_text = preprocess_pdf(pdf_path)\n",
    "        # 默认使用文档的前三段预测文档主题\n",
    "        doc_topic, doc_score = doc_classifier.classify(\" \".join(preprocessed_text[:3]))\n",
    "        # 如果使用前三段预测文档主题失败，则遍历文档的所有段落\n",
    "        if doc_score < threshold:\n",
    "            for para in preprocessed_text:\n",
    "                doc_topic, doc_score = doc_classifier.classify(para)\n",
    "                if doc_score >= threshold:\n",
    "                    break\n",
    "            # 如果文档主题不明确，跳过该文档\n",
    "            if doc_score < threshold:\n",
    "                warnings.warn(\"活动类型不明确: {}\".format(pdf_path))\n",
    "                continue\n",
    "        \n",
    "        # 默认从文档的第二段开始预测段落主题\n",
    "        para_topics = []\n",
    "        for para in preprocessed_text[2:]:\n",
    "            topic, score = para_classifier.classify(para)\n",
    "            # 如果段落主题分类不明确或段落文本长度过短，跳过该段落\n",
    "            if score >= threshold and len(para) >= min_paragraph_length:\n",
    "                para_topics.append(topic)\n",
    "        para_topics = set(para_topics) # 去重\n",
    "        \n",
    "        # 统计结果\n",
    "        for para_topic in para_topics:\n",
    "            stats[doc_topic][para_topic] += 1\n",
    "        \n",
    "    return stats"
   ]
  },
  {
   "cell_type": "code",
   "execution_count": 4,
   "metadata": {},
   "outputs": [
    {
     "name": "stdout",
     "output_type": "stream",
     "text": [
      "./new_data/会见/01/进一步加强科创合作交流_记者__孟群舒.pdf\n",
      "2022-08-28 14:38:09,934 INFO     loading: 'to-unicode-Adobe-GB1'\n",
      "活动类型为：会见\n",
      "主题包括：经济\n"
     ]
    }
   ],
   "source": [
    "predict(\"./new_data/会见/01/进一步加强科创合作交流_记者__孟群舒.pdf\") # 输入单个pdf文件所在的路径"
   ]
  },
  {
   "cell_type": "code",
   "execution_count": 5,
   "metadata": {},
   "outputs": [
    {
     "name": "stderr",
     "output_type": "stream",
     "text": [
      "100%|██████████| 210/210 [07:20<00:00,  2.10s/it]\n"
     ]
    }
   ],
   "source": [
    "import glob\n",
    "stats = predict_all(glob.glob(\"./new_data/*/*/*.pdf\")) # 输入pdf文件所在的路径"
   ]
  },
  {
   "cell_type": "code",
   "execution_count": 6,
   "metadata": {},
   "outputs": [],
   "source": [
    "import pandas as pd\n",
    "from utils import doc_topics, paragraph_topics\n",
    "\n",
    "# 将统计结果输出到指定路径的excel文件\n",
    "def save_excel(stats, path):\n",
    "    df = pd.DataFrame(columns=[\" \"] + [\"{}.{}\".format(i+1, t) for i, t in enumerate(doc_topics)], index=list(range(1, len(paragraph_topics)+1)))\n",
    "    df[\" \"] = paragraph_topics\n",
    "    for col_idx, doc_topic in enumerate(doc_topics):\n",
    "        for row_idx in range(1, len(paragraph_topics)+1):\n",
    "            df[\"{}.{}\".format(col_idx+1, doc_topic)][row_idx] = stats[doc_topic][paragraph_topics[row_idx-1]]\n",
    "    df.to_excel(path)"
   ]
  },
  {
   "cell_type": "code",
   "execution_count": 7,
   "metadata": {},
   "outputs": [],
   "source": [
    "save_excel(stats, \"./stats.xlsx\") # 指定excel文件输出路径"
   ]
  }
 ],
 "metadata": {
  "kernelspec": {
   "display_name": "Python 3.7.7 ('base')",
   "language": "python",
   "name": "python3"
  },
  "language_info": {
   "codemirror_mode": {
    "name": "ipython",
    "version": 3
   },
   "file_extension": ".py",
   "mimetype": "text/x-python",
   "name": "python",
   "nbconvert_exporter": "python",
   "pygments_lexer": "ipython3",
   "version": "3.7.7"
  },
  "orig_nbformat": 4,
  "vscode": {
   "interpreter": {
    "hash": "1f5681733fccbefcbca5a4e9f72189d3e93347784ed9242ac090fa102fe5e7d6"
   }
  }
 },
 "nbformat": 4,
 "nbformat_minor": 2
}
